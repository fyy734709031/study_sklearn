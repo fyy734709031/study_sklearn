{
 "cells": [
  {
   "cell_type": "code",
   "execution_count": 18,
   "metadata": {},
   "outputs": [],
   "source": [
    "import pandas as pd\n",
    "import re \n",
    "# Python高级-Pandas模块作业二\n",
    "# 1. 导入数据并赋值给变量 chipo(chipotle.csv)\n",
    "# 2. 计算出有多少商品大于10美元（去除列数据中特殊字符）\n",
    "# 3. 每个项目的价格是多少？[指定列去重，筛选，排序](如果存在多个价格，选择出现最高价格)\t\n",
    "# 4.在所有商品订单中 最贵商品的数量（quantity）是多少？\t\n",
    "# 5. 商品订购单中，商品 Veggie Salad Bowl 的订单数目？\t\n",
    "# 6. 在所有订单中，购买商品Canned Soda数量大于1的订单数有几条?"
   ]
  },
  {
   "cell_type": "code",
   "execution_count": 166,
   "metadata": {},
   "outputs": [
    {
     "data": {
      "text/html": [
       "<div>\n",
       "<style scoped>\n",
       "    .dataframe tbody tr th:only-of-type {\n",
       "        vertical-align: middle;\n",
       "    }\n",
       "\n",
       "    .dataframe tbody tr th {\n",
       "        vertical-align: top;\n",
       "    }\n",
       "\n",
       "    .dataframe thead th {\n",
       "        text-align: right;\n",
       "    }\n",
       "</style>\n",
       "<table border=\"1\" class=\"dataframe\">\n",
       "  <thead>\n",
       "    <tr style=\"text-align: right;\">\n",
       "      <th></th>\n",
       "      <th>order_id</th>\n",
       "      <th>quantity</th>\n",
       "      <th>item_name</th>\n",
       "      <th>choice_description</th>\n",
       "      <th>item_price</th>\n",
       "    </tr>\n",
       "  </thead>\n",
       "  <tbody>\n",
       "    <tr>\n",
       "      <td>0</td>\n",
       "      <td>1</td>\n",
       "      <td>1</td>\n",
       "      <td>Chips and Fresh Tomato Salsa</td>\n",
       "      <td>NaN</td>\n",
       "      <td>$2.39</td>\n",
       "    </tr>\n",
       "    <tr>\n",
       "      <td>1</td>\n",
       "      <td>1</td>\n",
       "      <td>1</td>\n",
       "      <td>Izze</td>\n",
       "      <td>[Clementine]</td>\n",
       "      <td>$3.39</td>\n",
       "    </tr>\n",
       "    <tr>\n",
       "      <td>2</td>\n",
       "      <td>1</td>\n",
       "      <td>1</td>\n",
       "      <td>Nantucket Nectar</td>\n",
       "      <td>[Apple]</td>\n",
       "      <td>$3.39</td>\n",
       "    </tr>\n",
       "    <tr>\n",
       "      <td>3</td>\n",
       "      <td>1</td>\n",
       "      <td>1</td>\n",
       "      <td>Chips and Tomatillo-Green Chili Salsa</td>\n",
       "      <td>NaN</td>\n",
       "      <td>$2.39</td>\n",
       "    </tr>\n",
       "    <tr>\n",
       "      <td>4</td>\n",
       "      <td>2</td>\n",
       "      <td>2</td>\n",
       "      <td>Chicken Bowl</td>\n",
       "      <td>[Tomatillo-Red Chili Salsa (Hot), [Black Beans...</td>\n",
       "      <td>$16.98</td>\n",
       "    </tr>\n",
       "    <tr>\n",
       "      <td>...</td>\n",
       "      <td>...</td>\n",
       "      <td>...</td>\n",
       "      <td>...</td>\n",
       "      <td>...</td>\n",
       "      <td>...</td>\n",
       "    </tr>\n",
       "    <tr>\n",
       "      <td>4617</td>\n",
       "      <td>1833</td>\n",
       "      <td>1</td>\n",
       "      <td>Steak Burrito</td>\n",
       "      <td>[Fresh Tomato Salsa, [Rice, Black Beans, Sour ...</td>\n",
       "      <td>$11.75</td>\n",
       "    </tr>\n",
       "    <tr>\n",
       "      <td>4618</td>\n",
       "      <td>1833</td>\n",
       "      <td>1</td>\n",
       "      <td>Steak Burrito</td>\n",
       "      <td>[Fresh Tomato Salsa, [Rice, Sour Cream, Cheese...</td>\n",
       "      <td>$11.75</td>\n",
       "    </tr>\n",
       "    <tr>\n",
       "      <td>4619</td>\n",
       "      <td>1834</td>\n",
       "      <td>1</td>\n",
       "      <td>Chicken Salad Bowl</td>\n",
       "      <td>[Fresh Tomato Salsa, [Fajita Vegetables, Pinto...</td>\n",
       "      <td>$11.25</td>\n",
       "    </tr>\n",
       "    <tr>\n",
       "      <td>4620</td>\n",
       "      <td>1834</td>\n",
       "      <td>1</td>\n",
       "      <td>Chicken Salad Bowl</td>\n",
       "      <td>[Fresh Tomato Salsa, [Fajita Vegetables, Lettu...</td>\n",
       "      <td>$8.75</td>\n",
       "    </tr>\n",
       "    <tr>\n",
       "      <td>4621</td>\n",
       "      <td>1834</td>\n",
       "      <td>1</td>\n",
       "      <td>Chicken Salad Bowl</td>\n",
       "      <td>[Fresh Tomato Salsa, [Fajita Vegetables, Pinto...</td>\n",
       "      <td>$8.75</td>\n",
       "    </tr>\n",
       "  </tbody>\n",
       "</table>\n",
       "<p>4622 rows × 5 columns</p>\n",
       "</div>"
      ],
      "text/plain": [
       "      order_id  quantity                              item_name  \\\n",
       "0            1         1           Chips and Fresh Tomato Salsa   \n",
       "1            1         1                                   Izze   \n",
       "2            1         1                       Nantucket Nectar   \n",
       "3            1         1  Chips and Tomatillo-Green Chili Salsa   \n",
       "4            2         2                           Chicken Bowl   \n",
       "...        ...       ...                                    ...   \n",
       "4617      1833         1                          Steak Burrito   \n",
       "4618      1833         1                          Steak Burrito   \n",
       "4619      1834         1                     Chicken Salad Bowl   \n",
       "4620      1834         1                     Chicken Salad Bowl   \n",
       "4621      1834         1                     Chicken Salad Bowl   \n",
       "\n",
       "                                     choice_description item_price  \n",
       "0                                                   NaN     $2.39   \n",
       "1                                          [Clementine]     $3.39   \n",
       "2                                               [Apple]     $3.39   \n",
       "3                                                   NaN     $2.39   \n",
       "4     [Tomatillo-Red Chili Salsa (Hot), [Black Beans...    $16.98   \n",
       "...                                                 ...        ...  \n",
       "4617  [Fresh Tomato Salsa, [Rice, Black Beans, Sour ...    $11.75   \n",
       "4618  [Fresh Tomato Salsa, [Rice, Sour Cream, Cheese...    $11.75   \n",
       "4619  [Fresh Tomato Salsa, [Fajita Vegetables, Pinto...    $11.25   \n",
       "4620  [Fresh Tomato Salsa, [Fajita Vegetables, Lettu...     $8.75   \n",
       "4621  [Fresh Tomato Salsa, [Fajita Vegetables, Pinto...     $8.75   \n",
       "\n",
       "[4622 rows x 5 columns]"
      ]
     },
     "execution_count": 166,
     "metadata": {},
     "output_type": "execute_result"
    }
   ],
   "source": [
    "# 1. 导入数据并赋值给变量 chipo(chipotle.csv)\n",
    "chipo = pd.read_csv(\"./chipotle.csv\", sep = \"\\t\")\n",
    "chipo"
   ]
  },
  {
   "cell_type": "code",
   "execution_count": 167,
   "metadata": {},
   "outputs": [
    {
     "data": {
      "text/plain": [
       "False    3492\n",
       "True     1130\n",
       "Name: price, dtype: int64"
      ]
     },
     "execution_count": 167,
     "metadata": {},
     "output_type": "execute_result"
    }
   ],
   "source": [
    "# 2. 计算出有多少商品大于10美元（去除列数据中特殊字符）\n",
    "def fa(x):\n",
    "    nomey = re.search(\"(\\d*\\.\\d*)\", x)\n",
    "    return nomey[1]\n",
    "\n",
    "chipo[\"price\"] = chipo[\"item_price\"].apply(fa).astype('float')\n",
    "price_more10 = chipo[\"price\"] > 10\n",
    "price_more10.value_counts()"
   ]
  },
  {
   "cell_type": "code",
   "execution_count": 182,
   "metadata": {},
   "outputs": [
    {
     "data": {
      "text/plain": [
       "item_name\n",
       "Chips and Fresh Tomato Salsa             44.25\n",
       "Carnitas Bowl                            35.25\n",
       "Chicken Burrito                          35.00\n",
       "Veggie Burrito                           33.75\n",
       "Chicken Bowl                             32.94\n",
       "Steak Burrito                            27.75\n",
       "Steak Bowl                               26.07\n",
       "Steak Salad Bowl                         23.78\n",
       "Chicken Salad Bowl                       22.50\n",
       "Bowl                                     22.20\n",
       "Chicken Soft Tacos                       21.96\n",
       "Carnitas Burrito                         18.50\n",
       "Steak Soft Tacos                         18.50\n",
       "Barbacoa Crispy Tacos                    18.50\n",
       "Carnitas Crispy Tacos                    17.98\n",
       "Steak Crispy Tacos                       17.98\n",
       "Chips and Guacamole                      17.80\n",
       "Chicken Crispy Tacos                     17.50\n",
       "Veggie Soft Tacos                        16.98\n",
       "Veggie Bowl                              16.98\n",
       "Bottled Water                            15.00\n",
       "Side of Chips                            13.52\n",
       "6 Pack Soft Drink                        12.98\n",
       "Barbacoa Salad Bowl                      11.89\n",
       "Carnitas Salad Bowl                      11.89\n",
       "Carnitas Soft Tacos                      11.75\n",
       "Barbacoa Bowl                            11.75\n",
       "Barbacoa Burrito                         11.75\n",
       "Barbacoa Soft Tacos                      11.75\n",
       "Veggie Salad Bowl                        11.25\n",
       "Chicken Salad                            10.98\n",
       "Carnitas Salad                            8.99\n",
       "Steak Salad                               8.99\n",
       "Veggie Crispy Tacos                       8.49\n",
       "Veggie Salad                              8.49\n",
       "Salad                                     7.40\n",
       "Crispy Tacos                              7.40\n",
       "Burrito                                   7.40\n",
       "Chips and Tomatillo-Red Chili Salsa       7.17\n",
       "Nantucket Nectar                          6.78\n",
       "Chips                                     6.45\n",
       "Chips and Tomatillo Green Chili Salsa     5.90\n",
       "Chips and Roasted Chili Corn Salsa        5.90\n",
       "Chips and Tomatillo Red Chili Salsa       5.90\n",
       "Canned Soft Drink                         5.00\n",
       "Chips and Tomatillo-Green Chili Salsa     4.78\n",
       "Canned Soda                               4.36\n",
       "Izze                                      3.39\n",
       "Chips and Mild Fresh Tomato Salsa         3.00\n",
       "Chips and Roasted Chili-Corn Salsa        2.39\n",
       "Name: price, dtype: float64"
      ]
     },
     "execution_count": 182,
     "metadata": {},
     "output_type": "execute_result"
    }
   ],
   "source": [
    "# 3. 每个项目的价格是多少？[指定列去重，筛选，排序](如果存在多个价格，选择出现最高价格)\n",
    "chipo.groupby(\"item_name\")[\"price\"].max().sort_values(ascending = False)"
   ]
  },
  {
   "cell_type": "code",
   "execution_count": 186,
   "metadata": {},
   "outputs": [
    {
     "data": {
      "text/plain": [
       "quantity\n",
       "15    44.25\n",
       "Name: price, dtype: float64"
      ]
     },
     "execution_count": 186,
     "metadata": {},
     "output_type": "execute_result"
    }
   ],
   "source": [
    "# 4.在所有商品订单中 最贵商品的数量（quantity）是多少？\n",
    "moreExpensive = chipo.groupby(\"quantity\")[\"price\"].max().sort_values(ascending = False).head(1)\n",
    "moreExpensive"
   ]
  },
  {
   "cell_type": "code",
   "execution_count": 198,
   "metadata": {},
   "outputs": [
    {
     "data": {
      "text/plain": [
       "18"
      ]
     },
     "execution_count": 198,
     "metadata": {},
     "output_type": "execute_result"
    }
   ],
   "source": [
    "# 5. 商品订购单中，商品 Veggie Salad Bowl 的订单数目？\n",
    "chipo.loc[chipo[\"item_name\"] == \"Veggie Salad Bowl\"][\"quantity\"].sum()"
   ]
  },
  {
   "cell_type": "code",
   "execution_count": 206,
   "metadata": {},
   "outputs": [
    {
     "data": {
      "text/plain": [
       "18      2\n",
       "28      1\n",
       "51      2\n",
       "53      1\n",
       "107     1\n",
       "       ..\n",
       "3897    1\n",
       "3926    1\n",
       "3936    1\n",
       "4008    1\n",
       "4051    1\n",
       "Name: quantity, Length: 104, dtype: int64"
      ]
     },
     "execution_count": 206,
     "metadata": {},
     "output_type": "execute_result"
    }
   ],
   "source": [
    "# 6. 在所有订单中，购买商品Canned Soda数量大于1的订单数有几条?\n",
    "CannedSoda_moreOne = chipo.loc[chipo[\"item_name\"] == \"Canned Soda\"][\"quantity\"] > 1\n",
    "CannedSoda_moreOne.value_counts()"
   ]
  }
 ],
 "metadata": {
  "kernelspec": {
   "display_name": "Python 3",
   "language": "python",
   "name": "python3"
  },
  "language_info": {
   "codemirror_mode": {
    "name": "ipython",
    "version": 3
   },
   "file_extension": ".py",
   "mimetype": "text/x-python",
   "name": "python",
   "nbconvert_exporter": "python",
   "pygments_lexer": "ipython3",
   "version": "3.7.4"
  }
 },
 "nbformat": 4,
 "nbformat_minor": 2
}
