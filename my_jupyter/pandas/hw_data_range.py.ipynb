{
 "cells": [
  {
   "cell_type": "code",
   "execution_count": 82,
   "metadata": {},
   "outputs": [],
   "source": [
    "import pandas as pd\n",
    "import numpy as np\n",
    "import random\n"
   ]
  },
  {
   "cell_type": "code",
   "execution_count": 83,
   "metadata": {},
   "outputs": [
    {
     "data": {
      "text/plain": [
       "2019-01-01    0.332036\n",
       "2019-01-02    0.764924\n",
       "2019-01-03    0.076615\n",
       "2019-01-04    0.820545\n",
       "2019-01-05    0.188093\n",
       "                ...   \n",
       "2019-12-27    0.575835\n",
       "2019-12-28    0.800457\n",
       "2019-12-29    0.560107\n",
       "2019-12-30    0.971494\n",
       "2019-12-31    0.563783\n",
       "Freq: D, Length: 365, dtype: float64"
      ]
     },
     "execution_count": 83,
     "metadata": {},
     "output_type": "execute_result"
    }
   ],
   "source": [
    "# 时间序列\n",
    "# pandas.date_range(start=None, end=None, periods=None, freq='D', tz=None, normalize=False, name=None, closed=None, **kwargs)\n",
    "    # 主要参数说明：\n",
    "    # periods：固定时期，取值为整数或None\n",
    "    # freq：日期偏移量，取值为string或DateOffset，默认为'D'\n",
    "    # normalize：若参数为True表示将start、end参数值正则化到午夜时间戳\n",
    "    # name：生成时间索引对象的名称，取值为string或None\n",
    "    # closed：可以理解成在closed=None情况下返回的结果中，若closed=‘left’表示在返回的结果基础上，再取左开右闭的结果，若closed='right'表示在返回的结果基础上，再取做闭右开的结果\n",
    "# https://blog.csdn.net/AvalancheM/article/details/81293149\n",
    "\n",
    "# 1、建立一个以 2019 年每一天为索引，值为随机数的 Series，由变量t接收.\n",
    "index_data = pd.date_range(start = '2019-01-01', end = '2019-12-31', freq='D')\n",
    "t = pd.Series(np.random.rand(len(index_data)), index = index_data)\n",
    "t"
   ]
  },
  {
   "cell_type": "markdown",
   "metadata": {},
   "source": [
    "# resample采样"
   ]
  },
  {
   "cell_type": "code",
   "execution_count": 84,
   "metadata": {},
   "outputs": [
    {
     "name": "stdout",
     "output_type": "stream",
     "text": [
      "t 中每一个周三对应值的和: 26.24\n"
     ]
    },
    {
     "data": {
      "text/plain": [
       "2019-01-31    0.478772\n",
       "2019-02-28    0.491264\n",
       "2019-03-31    0.540821\n",
       "2019-04-30    0.504100\n",
       "2019-05-31    0.398095\n",
       "2019-06-30    0.488721\n",
       "2019-07-31    0.606958\n",
       "2019-08-31    0.488790\n",
       "2019-09-30    0.433432\n",
       "2019-10-31    0.511544\n",
       "2019-11-30    0.524899\n",
       "2019-12-31    0.438086\n",
       "Freq: M, dtype: float64"
      ]
     },
     "execution_count": 84,
     "metadata": {},
     "output_type": "execute_result"
    }
   ],
   "source": [
    "# 2. 统计t 中每一个周三对应值的和, 统计t中每个月值的平均值\n",
    "print(\"t 中每一个周三对应值的和: %.2f\" % t[t.index.weekday == 3].sum())\n",
    "t.resample(\"M\").mean()"
   ]
  },
  {
   "cell_type": "code",
   "execution_count": 85,
   "metadata": {},
   "outputs": [
    {
     "data": {
      "text/plain": [
       "2019-01-01 00:00:00    0.332036\n",
       "2019-01-01 00:01:00    0.000000\n",
       "2019-01-01 00:02:00    0.000000\n",
       "2019-01-01 00:03:00    0.000000\n",
       "2019-01-01 00:04:00    0.000000\n",
       "                         ...   \n",
       "2019-12-30 23:56:00    0.000000\n",
       "2019-12-30 23:57:00    0.000000\n",
       "2019-12-30 23:58:00    0.000000\n",
       "2019-12-30 23:59:00    0.000000\n",
       "2019-12-31 00:00:00    0.563783\n",
       "Freq: T, Length: 524161, dtype: float64"
      ]
     },
     "execution_count": 85,
     "metadata": {},
     "output_type": "execute_result"
    }
   ],
   "source": [
    "# 3. 将 Series 中的时间进行转换（秒转分钟）\n",
    "t.resample('Min').sum()"
   ]
  }
 ],
 "metadata": {
  "kernelspec": {
   "display_name": "Python 3",
   "language": "python",
   "name": "python3"
  },
  "language_info": {
   "codemirror_mode": {
    "name": "ipython",
    "version": 3
   },
   "file_extension": ".py",
   "mimetype": "text/x-python",
   "name": "python",
   "nbconvert_exporter": "python",
   "pygments_lexer": "ipython3",
   "version": "3.7.4"
  }
 },
 "nbformat": 4,
 "nbformat_minor": 2
}
