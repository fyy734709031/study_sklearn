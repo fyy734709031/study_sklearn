{
 "cells": [
  {
   "cell_type": "code",
   "execution_count": 4,
   "metadata": {},
   "outputs": [],
   "source": [
    "import pandas as pd\n",
    "import seaborn as sns\n",
    "import matplotlib.pyplot as plt\n",
    "# tk 在图形化gui界面中绘制图形\n",
    "# inline 在浏览器中绘图\n",
    "%matplotlib tk"
   ]
  },
  {
   "cell_type": "code",
   "execution_count": null,
   "metadata": {},
   "outputs": [],
   "source": [
    "# Python高级-Matplotlib模块作业\n",
    "# 1.\t航班乘客变化分析:分析年度乘客总量变化情况（折线图）\n",
    "# data = sns.load_dataset(\"flights\")\n",
    "# 2.\t航班乘客变化分析: 分析乘客在一年中各月份的分布（柱状图）\n",
    "# data = sns.load_dataset(\"flights\")\n",
    "# 3.\t鸢尾花花型尺寸分析：萼片（sepal）和花瓣（petal）的大小关系（散点图）\n",
    "# data = sns.load_dataset(\"iris\")\n",
    "# 4.\t鸢尾花花型尺寸分析：不同种类（species）鸢尾花萼片和花瓣的大小关系（分类散点子图）\n",
    "# data = sns.load_dataset(\"iris\")\n",
    "# 5.\t鸢尾花花型尺寸分析：不同种类鸢尾花萼片和花瓣大小的分布情况（柱状图或者箱式图）\n",
    "# data = sns.load_dataset(\"iris\")\n",
    "# 6.\t餐厅小费情况分析：小费和总消费之间的关系（散点图）\n",
    "# data = sns.load_dataset(\"tips\")\n",
    "# 7.\t餐厅小费情况分析：性别+抽烟的组合因素对慷慨度的影响（分组柱状图）\n",
    "# data = sns.load_dataset(\"tips\")"
   ]
  },
  {
   "cell_type": "code",
   "execution_count": 39,
   "metadata": {},
   "outputs": [
    {
     "data": {
      "text/plain": [
       "<matplotlib.axes._subplots.AxesSubplot at 0x121d98610>"
      ]
     },
     "execution_count": 39,
     "metadata": {},
     "output_type": "execute_result"
    }
   ],
   "source": [
    "# Python高级-Matplotlib模块作业\n",
    "# 1.\t航班乘客变化分析:分析年度乘客总量变化情况（折线图）\n",
    "data = sns.load_dataset(\"flights\")\n",
    "passengers = data.groupby(\"year\")[\"passengers\"].sum()\n",
    "# Series 转为 DataFrame\n",
    "pd_passengers = pd.DataFrame({'year':passengers.index,'passengers':passengers.values})\n",
    "plt.figure(\"年度乘客总量变化情况\",figsize=(8,6))\n",
    "sns.scatterplot(x = pd_passengers[\"year\"], y = pd_passengers[\"passengers\"])"
   ]
  },
  {
   "cell_type": "code",
   "execution_count": 73,
   "metadata": {},
   "outputs": [
    {
     "data": {
      "text/plain": [
       "<matplotlib.axes._subplots.AxesSubplot at 0x11651bbd0>"
      ]
     },
     "execution_count": 73,
     "metadata": {},
     "output_type": "execute_result"
    }
   ],
   "source": [
    "# 2.\t航班乘客变化分析: 分析乘客在一年中各月份的分布（柱状图）\n",
    "data = sns.load_dataset(\"flights\")\n",
    "plt.figure(\"乘客在一年中各月份的分布\",figsize=(10,8))\n",
    "sns.barplot(x = \"year\", y = \"passengers\", hue = \"month\", data = data)"
   ]
  },
  {
   "cell_type": "code",
   "execution_count": 18,
   "metadata": {},
   "outputs": [
    {
     "data": {
      "text/plain": [
       "<matplotlib.axes._subplots.AxesSubplot at 0x10d407950>"
      ]
     },
     "execution_count": 18,
     "metadata": {},
     "output_type": "execute_result"
    }
   ],
   "source": [
    "# 3.\t鸢尾花花型尺寸分析：萼片（sepal）和花瓣（petal）的大小关系（散点图）\n",
    "data = sns.load_dataset(\"iris\")\n",
    "data['sepal_size'] = data[\"sepal_length\"] * data[\"sepal_width\"]\n",
    "data['petal_size'] = data[\"petal_length\"] * data[\"petal_width\"]\n",
    "plt.figure(\"鸢尾花花型尺寸分析：萼片（sepal）和花瓣（petal）的大小关系\",figsize=(8,6))\n",
    "sns.stripplot(x = \"sepal_size\", y = \"petal_size\", data = data)"
   ]
  },
  {
   "cell_type": "code",
   "execution_count": null,
   "metadata": {},
   "outputs": [],
   "source": [
    "# 添加子图\n",
    "# ax1 = plt.subplot(211)"
   ]
  },
  {
   "cell_type": "code",
   "execution_count": 9,
   "metadata": {},
   "outputs": [
    {
     "data": {
      "text/plain": [
       "<matplotlib.axes._subplots.AxesSubplot at 0x126d87910>"
      ]
     },
     "execution_count": 9,
     "metadata": {},
     "output_type": "execute_result"
    }
   ],
   "source": [
    "# 4.\t鸢尾花花型尺寸分析：不同种类（species）鸢尾花萼片和花瓣的大小关系（分类散点子图）\n",
    "data = sns.load_dataset(\"iris\")\n",
    "data['sepal_size'] = data[\"sepal_length\"] * data[\"sepal_width\"]\n",
    "data['petal_size'] = data[\"petal_length\"] * data[\"petal_width\"]\n",
    "plt.figure(\"鸢尾花花型尺寸分析：不同种类（species）鸢尾花萼片和花瓣的大小关系\",figsize=(8,6))\n",
    "sns.stripplot(x = \"sepal_size\", y = \"petal_size\", hue = \"species\", data = data)"
   ]
  },
  {
   "cell_type": "code",
   "execution_count": 13,
   "metadata": {},
   "outputs": [
    {
     "name": "stdout",
     "output_type": "stream",
     "text": [
      "     total_bill   tip     sex smoker   day    time  size\n",
      "0         16.99  1.01  Female     No   Sun  Dinner     2\n",
      "1         10.34  1.66    Male     No   Sun  Dinner     3\n",
      "2         21.01  3.50    Male     No   Sun  Dinner     3\n",
      "3         23.68  3.31    Male     No   Sun  Dinner     2\n",
      "4         24.59  3.61  Female     No   Sun  Dinner     4\n",
      "..          ...   ...     ...    ...   ...     ...   ...\n",
      "239       29.03  5.92    Male     No   Sat  Dinner     3\n",
      "240       27.18  2.00  Female    Yes   Sat  Dinner     2\n",
      "241       22.67  2.00    Male    Yes   Sat  Dinner     2\n",
      "242       17.82  1.75    Male     No   Sat  Dinner     2\n",
      "243       18.78  3.00  Female     No  Thur  Dinner     2\n",
      "\n",
      "[244 rows x 7 columns]\n"
     ]
    },
    {
     "data": {
      "text/plain": [
       "<matplotlib.axes._subplots.AxesSubplot at 0x11fe209d0>"
      ]
     },
     "execution_count": 13,
     "metadata": {},
     "output_type": "execute_result"
    }
   ],
   "source": [
    "# 6.\t餐厅小费情况分析：小费和总消费之间的关系（散点图）\n",
    "data = sns.load_dataset(\"tips\")\n",
    "plt.figure(\"餐厅小费情况分析：小费和总消费之间的关系\",figsize=(8,6))\n",
    "sns.stripplot(x = \"tip\", y = \"total_bill\", data = data)"
   ]
  },
  {
   "cell_type": "code",
   "execution_count": 17,
   "metadata": {},
   "outputs": [
    {
     "data": {
      "text/plain": [
       "<matplotlib.axes._subplots.AxesSubplot at 0x130502950>"
      ]
     },
     "execution_count": 17,
     "metadata": {},
     "output_type": "execute_result"
    }
   ],
   "source": [
    "# 7.\t餐厅小费情况分析：性别+抽烟的组合因素对慷慨度的影响（分组柱状图）\n",
    "data = sns.load_dataset(\"tips\")\n",
    "plt.figure(\"餐厅小费情况分析：性别+抽烟的组合因素对慷慨度的影响\",figsize=(8,6))\n",
    "sns.barplot(x = \"sex\", y = \"tip\", hue = \"smoker\", data = data)"
   ]
  },
  {
   "cell_type": "code",
   "execution_count": null,
   "metadata": {},
   "outputs": [],
   "source": []
  }
 ],
 "metadata": {
  "kernelspec": {
   "display_name": "Python 3",
   "language": "python",
   "name": "python3"
  },
  "language_info": {
   "codemirror_mode": {
    "name": "ipython",
    "version": 3
   },
   "file_extension": ".py",
   "mimetype": "text/x-python",
   "name": "python",
   "nbconvert_exporter": "python",
   "pygments_lexer": "ipython3",
   "version": "3.7.4"
  }
 },
 "nbformat": 4,
 "nbformat_minor": 2
}
