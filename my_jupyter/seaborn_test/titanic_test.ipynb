{
 "cells": [
  {
   "cell_type": "code",
   "execution_count": null,
   "metadata": {},
   "outputs": [],
   "source": [
    "# 练习3：泰坦尼克号海难幸存状况分析\n",
    "# 不同仓位等级中幸存和遇难乘客的分布（箱图或者提琴图）\n",
    "# 幸存和遇难乘客的票价分布（箱图或者提琴图）\n",
    "# 幸存和遇难乘客的年龄分布（箱图或者提琴图）\n",
    "# 不同上船港口的乘客仓位等级分布（箱图或者提琴图）\n",
    "# 幸存和遇难乘客堂兄弟姐妹的数量分布（箱图或者提琴图）\n",
    "# 幸存和遇难乘客父母子女的数量分布（箱图或者提琴图）\n",
    "# 单独乘船与否和幸存之间的关系（统计柱状图）\n",
    "# 乘客年龄和船票价格之间的关系（线性回归模型）\n",
    "# 乘客性别和仓位等级之间的关系（统计柱状图）\n",
    "# 乘客年龄和仓位等级之间的关系（带抖动的散点图）"
   ]
  },
  {
   "cell_type": "code",
   "execution_count": null,
   "metadata": {},
   "outputs": [],
   "source": []
  }
 ],
 "metadata": {
  "kernelspec": {
   "display_name": "Python 3",
   "language": "python",
   "name": "python3"
  },
  "language_info": {
   "codemirror_mode": {
    "name": "ipython",
    "version": 3
   },
   "file_extension": ".py",
   "mimetype": "text/x-python",
   "name": "python",
   "nbconvert_exporter": "python",
   "pygments_lexer": "ipython3",
   "version": "3.7.4"
  }
 },
 "nbformat": 4,
 "nbformat_minor": 2
}
